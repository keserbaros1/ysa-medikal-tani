{
 "cells": [
  {
   "cell_type": "code",
   "execution_count": 3,
   "id": "30b4963f",
   "metadata": {},
   "outputs": [],
   "source": [
    "import pandas as pd\n",
    "from collections import Counter\n",
    "\n",
    "import shutil\n",
    "import os\n",
    "\n",
    "import shutil\n",
    "\n",
    "import random"
   ]
  },
  {
   "cell_type": "markdown",
   "id": "1197c080",
   "metadata": {},
   "source": [
    "## Veriler ile ilgili bilgi edindiğimiz kısım"
   ]
  },
  {
   "cell_type": "code",
   "execution_count": 2,
   "id": "90be8d03",
   "metadata": {},
   "outputs": [
    {
     "name": "stdout",
     "output_type": "stream",
     "text": [
      "Toplam 15 farklı hastalık etiketi var.\n",
      "Hastalık etiketleri (çoktan aza doğru):\n",
      "No Finding: 60361\n",
      "Infiltration: 9547\n",
      "Atelectasis: 4215\n",
      "Effusion: 3955\n",
      "Nodule: 2705\n",
      "Pneumothorax: 2194\n",
      "Mass: 2139\n",
      "Consolidation: 1310\n",
      "Pleural_Thickening: 1126\n",
      "Cardiomegaly: 1093\n",
      "Emphysema: 892\n",
      "Fibrosis: 727\n",
      "Edema: 628\n",
      "Pneumonia: 322\n",
      "Hernia: 110\n"
     ]
    }
   ],
   "source": [
    "# CSV dosyasını oku\n",
    "csv_path = \"Data_Entry_2017.csv\"\n",
    "df = pd.read_csv(csv_path)\n",
    "\n",
    "\n",
    "# Sadece tek bir etiketi olanları filtrele\n",
    "single_label_df = df[df[\"Finding Labels\"].str.contains(r\"\\|\", na=False) == False]\n",
    "\n",
    "# Hastalık etiketlerini say\n",
    "label_counts = Counter(single_label_df[\"Finding Labels\"].dropna())  # Boş olmayanları al\n",
    "\n",
    "\n",
    "\n",
    "# # Birden çok hastalık etiketlerini de say \n",
    "# label_counts = Counter()\n",
    "# for labels in df[\"Finding Labels\"].dropna():  # Boş olmayanları al\n",
    "#     label_counts.update(labels.split(\"|\"))  # \"|\" ile ayrılanları ayır ve say\n",
    "\n",
    "# Etiketleri çoktan aza doğru sırala\n",
    "sorted_labels = label_counts.most_common()\n",
    "\n",
    "# Sonuçları yazdır\n",
    "print(f\"Toplam {len(label_counts)} farklı hastalık etiketi var.\")\n",
    "print(\"Hastalık etiketleri (çoktan aza doğru):\")\n",
    "for label, count in sorted_labels:\n",
    "    print(f\"{label}: {count}\")"
   ]
  },
  {
   "cell_type": "markdown",
   "id": "607edf62",
   "metadata": {},
   "source": [
    "## Verileri Türlerine göre ayırdığımız kısım"
   ]
  },
  {
   "cell_type": "code",
   "execution_count": null,
   "id": "ac053713",
   "metadata": {},
   "outputs": [],
   "source": [
    "def organize_images(df, source_folder = \"archive/\", destination_folder= \"dataset/\", chose = 1):\n",
    "    \"\"\"\n",
    "    Görüntüleri etiketlere göre organize eden bir fonksiyon.\n",
    "\n",
    "    Bu fonksiyon, verilen bir DataFrame'deki görüntü dosyalarını etiketlerine göre\n",
    "    belirtilen hedef klasöre taşır veya kopyalar. Ayrıca, tüm görüntüleri tek bir\n",
    "    klasöre toplama seçeneği sunar.\n",
    "\n",
    "    Args:\n",
    "        df (pd.DataFrame): Görüntü dosyalarının bilgilerini içeren DataFrame.\n",
    "                           \"Image Index\" sütunu dosya adlarını, \"Finding Labels\" sütunu ise etiketleri içermelidir.\n",
    "        source_folder (str): Kaynak klasörün yolu. Varsayılan olarak \"archive/\".\n",
    "        destination_folder (str): Hedef klasörün yolu. Varsayılan olarak \"dataset/\".\n",
    "        chose (int): İşlem türünü belirler:\n",
    "                     - 1: Görüntüleri etiketlerine göre ayrı klasörlere taşır/kopyalar.\n",
    "                     - 0: Tüm görüntüleri tek bir klasöre taşır/kopyalar.\n",
    "\n",
    "    Returns:\n",
    "        None\n",
    "\n",
    "    Örnek:\n",
    "        Tek etiketli görüntüleri organize etmek için:\n",
    "        >>> organize_images(single_label_df, source_folder=\"archive/\", destination_folder=\"dataset/\", chose=1)\n",
    "    \"\"\"\n",
    "\n",
    "    if chose == 0:\n",
    "        # Genel hedef klasör (eğer chose = 0 ise tüm görüntüler buraya gider)\n",
    "        general_folder = os.path.join(destination_folder, \"single_label_images\")\n",
    "\n",
    "    for folder in os.listdir(source_folder):\n",
    "        images_path = os.path.join(source_folder, folder, \"images\")\n",
    "\n",
    "        if os.path.exists(images_path):  # Eğer images klasörü varsa\n",
    "\n",
    "            for filename in os.listdir(images_path):  # İçindeki tüm görüntüleri tarayalım\n",
    "                file_path = os.path.join(images_path, filename)  # Dosyanın tam yolu\n",
    "                \n",
    "\n",
    "                # CSV'den uygun etiket bulunuyor\n",
    "                row = df.loc[df[\"Image Index\"] == filename]  \n",
    "                if not row.empty:\n",
    "                    \n",
    "                    if chose == 1:\n",
    "                        label = row[\"Finding Labels\"].values[0]  # Hastalık etiketi\n",
    "\n",
    "                        # Etikete göre hedef klasör oluştur\n",
    "                        label_folder = os.path.join(destination_folder, label)\n",
    "                        os.makedirs(label_folder, exist_ok=True)\n",
    "\n",
    "                        # Dosyayı taşı\n",
    "                        destination_path = os.path.join(label_folder, filename)\n",
    "                        shutil.copy(file_path, destination_path)\n",
    "\n",
    "\n",
    "                    elif chose == 0:\n",
    "                        os.makedirs(general_folder, exist_ok=True)\n",
    "\n",
    "                        # Tüm görüntüleri tek klasöre kopyala\n",
    "                        destination_path = os.path.join(general_folder, filename)\n",
    "                        shutil.copy(file_path, destination_path)\n",
    "\n",
    "\n",
    "    print(\"Tüm görüntüler etiketlere göre başarıyla taşındı!\")"
   ]
  },
  {
   "cell_type": "markdown",
   "id": "6b8eef7b",
   "metadata": {},
   "source": [
    "### Tek etiketli görüntüleri organize et"
   ]
  },
  {
   "cell_type": "code",
   "execution_count": null,
   "id": "753444b4",
   "metadata": {},
   "outputs": [],
   "source": [
    "organize_images(single_label_df)"
   ]
  },
  {
   "cell_type": "markdown",
   "id": "bd332239",
   "metadata": {},
   "source": [
    "### Tek etiketli görüntüleri tek bir klasöre kopyala"
   ]
  },
  {
   "cell_type": "code",
   "execution_count": null,
   "id": "c42fd087",
   "metadata": {},
   "outputs": [],
   "source": [
    "organize_images(single_label_df, destination_folder= \"single_dataset/\", chose= 0)"
   ]
  },
  {
   "cell_type": "markdown",
   "id": "a96239b9",
   "metadata": {},
   "source": [
    "## Model'de kullanılacak verileri ayırma"
   ]
  },
  {
   "cell_type": "code",
   "execution_count": null,
   "id": "61974d10",
   "metadata": {},
   "outputs": [],
   "source": [
    "def egitim_dosya_hazirla(source_folder= 'dataset/',\n",
    "                         destination_folder= \"data_model/\",\n",
    "                         excluded_folder = '',\n",
    "                         num_images_per_class = 1000,\n",
    "                         train_split_ratio = 0.85,\n",
    "                         test_split_ratio = 0.10\n",
    "                         ):\n",
    "    \n",
    "\n",
    "    os.makedirs(destination_folder, exist_ok=True)\n",
    "    disease_folders = [d for d in os.listdir(source_folder)]\n",
    "\n",
    "\n",
    "\n",
    "    for disease_name in disease_folders:\n",
    "        # Hariç tutulan klasörü atla\n",
    "        if disease_name == excluded_folder:\n",
    "            continue\n",
    "\n",
    "        disease_path = os.path.join(source_folder, disease_name)\n",
    "\n",
    "        all_images = [f for f in os.listdir(disease_path)]\n",
    "\n",
    "        num_available_images = len(all_images)\n",
    "        if num_available_images < num_images_per_class:\n",
    "\n",
    "            print(f\" Uyarı: '{disease_name}' klasöründe yeterli resim yok.\")\n",
    "            print(f\" Mevcut resim sayısı: {num_available_images}, gerekli resim sayısı: {num_images_per_class}\")\n",
    "            print(\"generated_images klasörü oluşturulacak ve klasör buraya kopyalanacak.\")\n",
    "            print(\"-\" * 20, \"\\n\\n\\n\")\n",
    "\n",
    "\n",
    "            # hedef klasörünü oluştur\n",
    "            os.makedirs(f\"generated_images/{disease_name}\", exist_ok=True)\n",
    "            \n",
    "            # Klasörün içeriğini kopyala\n",
    "            for image_filename in all_images:\n",
    "                source_file_path = os.path.join(disease_path, image_filename)\n",
    "                dest_file_path = os.path.join(\"generated_images\", disease_name, image_filename)\n",
    "                \n",
    "                shutil.copy(source_file_path, dest_file_path)\n",
    "            continue\n",
    "\n",
    "        \n",
    "\n",
    "        # Rastgele 1000 resim seç\n",
    "        selected_images = random.sample(all_images, num_images_per_class)  \n",
    "\n",
    "        # Seçilen resimleri karıştır\n",
    "        random.shuffle(selected_images)\n",
    "\n",
    "        # Bölme için resim sayılarını hesapla\n",
    "        num_train = int(num_images_per_class * train_split_ratio)\n",
    "        num_test = int(num_images_per_class * test_split_ratio)\n",
    "        # Küsüratları doğrulama setine ekleyerek tam sayıya tamamla\n",
    "        num_val = num_images_per_class - num_train - num_test\n",
    "\n",
    "        # Resimleri bölümlere ayır\n",
    "        train_images = selected_images[:num_train]\n",
    "        test_images = selected_images[num_train:num_train + num_test]\n",
    "        val_images = selected_images[num_train + num_test:]\n",
    "    \n",
    "        # Hedef klasörleri oluştur\n",
    "        split_mapping = {\n",
    "        'train': train_images,  # Eğitim seti\n",
    "        'validation': val_images, # Doğrulama seti\n",
    "        'test': test_images     # Test seti\n",
    "        }\n",
    "\n",
    "        for split_name, image_list in split_mapping.items():\n",
    "\n",
    "            dest_dir = os.path.join(destination_folder, split_name, disease_name)\n",
    "            os.makedirs(dest_dir, exist_ok=True) # İç içe klasörleri oluşturur\n",
    "\n",
    "            # Resimleri kopyalama işlemi\n",
    "            for image_filename in image_list:\n",
    "                source_file_path = os.path.join(disease_path, image_filename)\n",
    "                dest_file_path = os.path.join(dest_dir, image_filename)\n",
    "                \n",
    "                shutil.copy(source_file_path, dest_file_path) # Sadece dosyayı kopyalar\n",
    "                "
   ]
  },
  {
   "cell_type": "code",
   "execution_count": 8,
   "id": "bd40d993",
   "metadata": {},
   "outputs": [
    {
     "name": "stdout",
     "output_type": "stream",
     "text": [
      " Uyarı: 'Edema' klasöründe yeterli resim yok.\n",
      " Mevcut resim sayısı: 628, gerekli resim sayısı: 1000\n",
      "generated_images klasörü oluşturulacak ve klasör buraya kopyalanacak.\n",
      " Uyarı: 'Emphysema' klasöründe yeterli resim yok.\n",
      " Mevcut resim sayısı: 892, gerekli resim sayısı: 1000\n",
      "generated_images klasörü oluşturulacak ve klasör buraya kopyalanacak.\n",
      " Uyarı: 'Fibrosis' klasöründe yeterli resim yok.\n",
      " Mevcut resim sayısı: 727, gerekli resim sayısı: 1000\n",
      "generated_images klasörü oluşturulacak ve klasör buraya kopyalanacak.\n",
      " Uyarı: 'Hernia' klasöründe yeterli resim yok.\n",
      " Mevcut resim sayısı: 110, gerekli resim sayısı: 1000\n",
      "generated_images klasörü oluşturulacak ve klasör buraya kopyalanacak.\n",
      " Uyarı: 'Pneumonia' klasöründe yeterli resim yok.\n",
      " Mevcut resim sayısı: 322, gerekli resim sayısı: 1000\n",
      "generated_images klasörü oluşturulacak ve klasör buraya kopyalanacak.\n"
     ]
    }
   ],
   "source": [
    "egitim_dosya_hazirla()"
   ]
  }
 ],
 "metadata": {
  "kernelspec": {
   "display_name": "ysa_env",
   "language": "python",
   "name": "python3"
  },
  "language_info": {
   "codemirror_mode": {
    "name": "ipython",
    "version": 3
   },
   "file_extension": ".py",
   "mimetype": "text/x-python",
   "name": "python",
   "nbconvert_exporter": "python",
   "pygments_lexer": "ipython3",
   "version": "3.13.2"
  }
 },
 "nbformat": 4,
 "nbformat_minor": 5
}
