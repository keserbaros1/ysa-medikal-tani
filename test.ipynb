{
 "cells": [
  {
   "cell_type": "code",
   "execution_count": 2,
   "metadata": {},
   "outputs": [
    {
     "name": "stdout",
     "output_type": "stream",
     "text": [
      "Toplam 15 farklı hastalık etiketi var.\n",
      "Hastalık etiketleri (çoktan aza doğru):\n",
      "No Finding: 60361\n",
      "Infiltration: 19894\n",
      "Effusion: 13317\n",
      "Atelectasis: 11559\n",
      "Nodule: 6331\n",
      "Mass: 5782\n",
      "Pneumothorax: 5302\n",
      "Consolidation: 4667\n",
      "Pleural_Thickening: 3385\n",
      "Cardiomegaly: 2776\n",
      "Emphysema: 2516\n",
      "Edema: 2303\n",
      "Fibrosis: 1686\n",
      "Pneumonia: 1431\n",
      "Hernia: 227\n"
     ]
    }
   ],
   "source": [
    "import pandas as pd\n",
    "from collections import Counter\n",
    "\n",
    "# CSV dosyasını oku\n",
    "csv_path = \"Data_Entry_2017.csv\"  # Eğer farklıysa dosya adını değiştir\n",
    "df = pd.read_csv(csv_path)\n",
    "\n",
    "# Hastalık etiketlerini say\n",
    "label_counts = Counter()\n",
    "for labels in df[\"Finding Labels\"].dropna():  # Boş olmayanları al\n",
    "    label_counts.update(labels.split(\"|\"))  # \"|\" ile ayrılanları ayır ve say\n",
    "\n",
    "# Etiketleri çoktan aza doğru sırala\n",
    "sorted_labels = label_counts.most_common()\n",
    "\n",
    "# Sonuçları yazdır\n",
    "print(f\"Toplam {len(label_counts)} farklı hastalık etiketi var.\")\n",
    "print(\"Hastalık etiketleri (çoktan aza doğru):\")\n",
    "for label, count in sorted_labels:\n",
    "    print(f\"{label}: {count}\")"
   ]
  }
 ],
 "metadata": {
  "kernelspec": {
   "display_name": "ne_hastalik_yapai",
   "language": "python",
   "name": "python3"
  },
  "language_info": {
   "codemirror_mode": {
    "name": "ipython",
    "version": 3
   },
   "file_extension": ".py",
   "mimetype": "text/x-python",
   "name": "python",
   "nbconvert_exporter": "python",
   "pygments_lexer": "ipython3",
   "version": "3.13.2"
  }
 },
 "nbformat": 4,
 "nbformat_minor": 2
}
